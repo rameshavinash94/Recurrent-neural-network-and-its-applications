{
  "nbformat": 4,
  "nbformat_minor": 0,
  "metadata": {
    "colab": {
      "name": "RNN colabs.ipynb",
      "provenance": [],
      "include_colab_link": true
    },
    "kernelspec": {
      "name": "python3",
      "display_name": "Python 3"
    },
    "language_info": {
      "name": "python"
    }
  },
  "cells": [
    {
      "cell_type": "markdown",
      "metadata": {
        "id": "view-in-github",
        "colab_type": "text"
      },
      "source": [
        "<a href=\"https://colab.research.google.com/github/rameshavinash94/Recurrent-neural-network-and-its-applications/blob/main/RNN_colabs.ipynb\" target=\"_parent\"><img src=\"https://colab.research.google.com/assets/colab-badge.svg\" alt=\"Open In Colab\"/></a>"
      ]
    },
    {
      "cell_type": "markdown",
      "source": [
        "RNN Many to One"
      ],
      "metadata": {
        "id": "eGUl5bh05N9R"
      }
    },
    {
      "cell_type": "code",
      "execution_count": 1,
      "metadata": {
        "colab": {
          "base_uri": "https://localhost:8080/"
        },
        "id": "vHd5l5tY5J8i",
        "outputId": "8a7ceeb2-b84e-4698-a8d8-8a8dc789d801"
      },
      "outputs": [
        {
          "output_type": "stream",
          "name": "stdout",
          "text": [
            "Tensorflow: 2.8.0\n"
          ]
        }
      ],
      "source": [
        "import tensorflow as tf\n",
        "import numpy as np\n",
        "import matplotlib.pyplot as plt\n",
        "import pandas as pd\n",
        "\n",
        "print('Tensorflow: {}'.format(tf.__version__))\n",
        "\n",
        "plt.rcParams['figure.figsize'] = (16, 10)\n",
        "plt.rc('font', size=15)"
      ]
    },
    {
      "cell_type": "code",
      "source": [
        "words = ['generous', 'evil', 'worse', 'so generous']\n",
        "y = [1, 0, 0, 1]"
      ],
      "metadata": {
        "id": "Dbejjy2C5L_l"
      },
      "execution_count": 2,
      "outputs": []
    },
    {
      "cell_type": "code",
      "source": [
        "char_set = ['<pad>'] + sorted(list(set(''.join(words))))\n",
        "idx2char = {idx:char for idx, char in enumerate(char_set)}\n",
        "char2idx = {char:idx for idx, char in enumerate(char_set)}"
      ],
      "metadata": {
        "id": "21WtWVl35Q8u"
      },
      "execution_count": 3,
      "outputs": []
    },
    {
      "cell_type": "code",
      "source": [
        "char_set"
      ],
      "metadata": {
        "colab": {
          "base_uri": "https://localhost:8080/"
        },
        "id": "peSsIDRu5TAU",
        "outputId": "2c864d43-b8e3-48ac-a49d-c6f4deda5113"
      },
      "execution_count": 4,
      "outputs": [
        {
          "output_type": "execute_result",
          "data": {
            "text/plain": [
              "['<pad>', ' ', 'e', 'g', 'i', 'l', 'n', 'o', 'r', 's', 'u', 'v', 'w']"
            ]
          },
          "metadata": {},
          "execution_count": 4
        }
      ]
    },
    {
      "cell_type": "code",
      "source": [
        "idx2char"
      ],
      "metadata": {
        "colab": {
          "base_uri": "https://localhost:8080/"
        },
        "id": "ODvNXdaO5T6g",
        "outputId": "07cd44bf-9040-4085-e601-808099bc49b2"
      },
      "execution_count": 5,
      "outputs": [
        {
          "output_type": "execute_result",
          "data": {
            "text/plain": [
              "{0: '<pad>',\n",
              " 1: ' ',\n",
              " 2: 'e',\n",
              " 3: 'g',\n",
              " 4: 'i',\n",
              " 5: 'l',\n",
              " 6: 'n',\n",
              " 7: 'o',\n",
              " 8: 'r',\n",
              " 9: 's',\n",
              " 10: 'u',\n",
              " 11: 'v',\n",
              " 12: 'w'}"
            ]
          },
          "metadata": {},
          "execution_count": 5
        }
      ]
    },
    {
      "cell_type": "code",
      "source": [
        "char2idx"
      ],
      "metadata": {
        "colab": {
          "base_uri": "https://localhost:8080/"
        },
        "id": "O4qqvJmn5Uwb",
        "outputId": "477acbe4-6333-4b49-f1d6-d96bf3589606"
      },
      "execution_count": 6,
      "outputs": [
        {
          "output_type": "execute_result",
          "data": {
            "text/plain": [
              "{' ': 1,\n",
              " '<pad>': 0,\n",
              " 'e': 2,\n",
              " 'g': 3,\n",
              " 'i': 4,\n",
              " 'l': 5,\n",
              " 'n': 6,\n",
              " 'o': 7,\n",
              " 'r': 8,\n",
              " 's': 9,\n",
              " 'u': 10,\n",
              " 'v': 11,\n",
              " 'w': 12}"
            ]
          },
          "metadata": {},
          "execution_count": 6
        }
      ]
    },
    {
      "cell_type": "code",
      "source": [
        "X = list(map(lambda word: [char2idx.get(char) for char in word], words))\n",
        "X_len = list(map(lambda word: len(word), X))"
      ],
      "metadata": {
        "id": "zPviDquh5Vl7"
      },
      "execution_count": 7,
      "outputs": []
    },
    {
      "cell_type": "code",
      "source": [
        "from tensorflow.keras.preprocessing.sequence import pad_sequences\n",
        "\n",
        "# Padding the sequence of indices\n",
        "max_sequence=10\n",
        "\n",
        "X = pad_sequences(X, maxlen=max_sequence, padding='post', truncating='post')\n"
      ],
      "metadata": {
        "id": "V0Pgpj5Z5Wme"
      },
      "execution_count": 8,
      "outputs": []
    },
    {
      "cell_type": "code",
      "source": [
        "# Generate data pipeline\n",
        "train_ds = tf.data.Dataset.from_tensor_slices((X, y)).shuffle(buffer_size=4).batch(batch_size=2)\n",
        "print(train_ds)"
      ],
      "metadata": {
        "colab": {
          "base_uri": "https://localhost:8080/"
        },
        "id": "_s6xY_Im5YyW",
        "outputId": "4d1d369e-865a-407f-ba3d-c1c3154d0737"
      },
      "execution_count": 9,
      "outputs": [
        {
          "output_type": "stream",
          "name": "stdout",
          "text": [
            "<BatchDataset element_spec=(TensorSpec(shape=(None, 10), dtype=tf.int32, name=None), TensorSpec(shape=(None,), dtype=tf.int32, name=None))>\n"
          ]
        }
      ]
    },
    {
      "cell_type": "code",
      "source": [
        "input_dim = len(char2idx)\n",
        "output_dim = len(char2idx)"
      ],
      "metadata": {
        "id": "5GCVJvkb5aFp"
      },
      "execution_count": 10,
      "outputs": []
    },
    {
      "cell_type": "code",
      "source": [
        "from tensorflow.keras.models import Sequential\n",
        "from tensorflow.keras.layers import Embedding, SimpleRNN, Dense\n",
        "\n",
        "model = Sequential([\n",
        "    Embedding(input_dim=input_dim, output_dim=output_dim,\n",
        "              mask_zero=True, input_length=max_sequence,\n",
        "              trainable=False, embeddings_initializer=tf.keras.initializers.random_normal()),\n",
        "    SimpleRNN(units=10),\n",
        "    Dense(2)\n",
        "])\n",
        "\n",
        "model.summary()"
      ],
      "metadata": {
        "colab": {
          "base_uri": "https://localhost:8080/"
        },
        "id": "25wvJVWz5a9r",
        "outputId": "43da6bec-229e-4b98-8bc8-c8ed8f214edf"
      },
      "execution_count": 11,
      "outputs": [
        {
          "output_type": "stream",
          "name": "stdout",
          "text": [
            "Model: \"sequential\"\n",
            "_________________________________________________________________\n",
            " Layer (type)                Output Shape              Param #   \n",
            "=================================================================\n",
            " embedding (Embedding)       (None, 10, 13)            169       \n",
            "                                                                 \n",
            " simple_rnn (SimpleRNN)      (None, 10)                240       \n",
            "                                                                 \n",
            " dense (Dense)               (None, 2)                 22        \n",
            "                                                                 \n",
            "=================================================================\n",
            "Total params: 431\n",
            "Trainable params: 262\n",
            "Non-trainable params: 169\n",
            "_________________________________________________________________\n"
          ]
        }
      ]
    },
    {
      "cell_type": "code",
      "source": [
        "def loss_fn(model, X, y):\n",
        "    return tf.reduce_mean(tf.keras.losses.sparse_categorical_crossentropy(y_true=y, \n",
        "                                                                          y_pred=model(X), \n",
        "                                                                          from_logits=True))\n",
        "\n",
        "optimizer = tf.keras.optimizers.Adam(learning_rate=0.01)"
      ],
      "metadata": {
        "id": "V3Ij0HSH5cAJ"
      },
      "execution_count": 12,
      "outputs": []
    },
    {
      "cell_type": "code",
      "source": [
        "tr_loss_hist = []\n",
        "\n",
        "for e in range(30):\n",
        "    avg_tr_loss = 0\n",
        "    tr_step = 0\n",
        "    \n",
        "    for x_mb, y_mb in train_ds:\n",
        "        with tf.GradientTape() as tape:\n",
        "            tr_loss = loss_fn(model, x_mb, y_mb)\n",
        "            \n",
        "        grads = tape.gradient(tr_loss, sources=model.variables)\n",
        "        optimizer.apply_gradients(grads_and_vars=zip(grads, model.variables))\n",
        "        avg_tr_loss += tr_loss\n",
        "        tr_step += 1\n",
        "    \n",
        "    avg_tr_loss /= tr_step\n",
        "    tr_loss_hist.append(avg_tr_loss)\n",
        "    \n",
        "    if (e + 1) % 5 == 0:\n",
        "        print('epoch: {:3}, tr_loss: {:3f}'.format(e + 1, avg_tr_loss))"
      ],
      "metadata": {
        "colab": {
          "base_uri": "https://localhost:8080/"
        },
        "id": "kCxWU0iC5dQS",
        "outputId": "d0dc1e49-0574-4387-a870-09bcfb2d63b8"
      },
      "execution_count": 13,
      "outputs": [
        {
          "output_type": "stream",
          "name": "stdout",
          "text": [
            "epoch:   5, tr_loss: 0.120441\n",
            "epoch:  10, tr_loss: 0.011748\n",
            "epoch:  15, tr_loss: 0.003994\n",
            "epoch:  20, tr_loss: 0.002304\n",
            "epoch:  25, tr_loss: 0.001676\n",
            "epoch:  30, tr_loss: 0.001343\n"
          ]
        }
      ]
    },
    {
      "cell_type": "code",
      "source": [
        "y_pred = model.predict(X)\n",
        "y_pred = np.argmax(y_pred, axis=-1)"
      ],
      "metadata": {
        "id": "Xm7r6kXu5eZt"
      },
      "execution_count": 14,
      "outputs": []
    },
    {
      "cell_type": "code",
      "source": [
        "print('acc: {:.2%}'.format(np.mean(y_pred == y)))"
      ],
      "metadata": {
        "colab": {
          "base_uri": "https://localhost:8080/"
        },
        "id": "xEj_HLne5fUX",
        "outputId": "b9ff70b7-b26f-4a2e-e987-02a9339b8e9d"
      },
      "execution_count": 15,
      "outputs": [
        {
          "output_type": "stream",
          "name": "stdout",
          "text": [
            "acc: 100.00%\n"
          ]
        }
      ]
    },
    {
      "cell_type": "code",
      "source": [
        "plt.figure()\n",
        "plt.plot(tr_loss_hist)\n",
        "plt.show()"
      ],
      "metadata": {
        "colab": {
          "base_uri": "https://localhost:8080/",
          "height": 265
        },
        "id": "12LTe40G5g2B",
        "outputId": "1d892f33-86ac-4305-a733-0f36f6db34e4"
      },
      "execution_count": 16,
      "outputs": [
        {
          "output_type": "display_data",
          "data": {
            "text/plain": [
              "<Figure size 432x288 with 1 Axes>"
            ],
            "image/png": "[encoded data removed]"
          },
          "metadata": {
            "needs_background": "light"
          }
        }
      ]
    },
    {
      "cell_type": "markdown",
      "source": [
        "RNN Many To Many\n",
        "\n",
        "Parts of Speech Tagging"
      ],
      "metadata": {
        "id": "6FPE01Lu5jCg"
      }
    },
    {
      "cell_type": "code",
      "source": [
        "sentences = [['I', 'am', 'brave'],\n",
        "             ['pytorch', 'is', 'very', 'easy'],\n",
        "             ['tfprobability ', 'is', 'a', 'framework', 'for', 'probabilistic', ' deep learning'],\n",
        "             ['tensorflow', 'is', 'very', 'fast', 'changing']]\n",
        "\n",
        "pos = [['pronoun', 'verb', 'adjective'], \n",
        "       ['noun', 'verb', 'adverb', 'adjective'],\n",
        "       ['noun', 'verb', 'determiner', 'noun', 'preposition', 'adjective', 'noun'],\n",
        "       ['noun', 'verb', 'adverb', 'adjective', 'verb']]"
      ],
      "metadata": {
        "id": "L4wMoboX5hyP"
      },
      "execution_count": 32,
      "outputs": []
    },
    {
      "cell_type": "code",
      "source": [
        "word_list =['<pad>'] + sorted(set(sum(sentences, []))) \n",
        "word2idx = {word:idx for idx, word in enumerate(word_list)}\n",
        "idx2word = {idx:word for idx, word in enumerate(word_list)}\n",
        "\n",
        "print(word_list)\n",
        "print(word2idx)\n",
        "print(idx2word)"
      ],
      "metadata": {
        "colab": {
          "base_uri": "https://localhost:8080/"
        },
        "id": "laesE1Rq5mQq",
        "outputId": "6c33a9cc-4919-4dc5-bf54-c1c1557feb2d"
      },
      "execution_count": 33,
      "outputs": [
        {
          "output_type": "stream",
          "name": "stdout",
          "text": [
            "['<pad>', ' deep learning', 'I', 'a', 'am', 'brave', 'changing', 'easy', 'fast', 'for', 'framework', 'is', 'probabilistic', 'pytorch', 'tensorflow', 'tfprobability ', 'very']\n",
            "{'<pad>': 0, ' deep learning': 1, 'I': 2, 'a': 3, 'am': 4, 'brave': 5, 'changing': 6, 'easy': 7, 'fast': 8, 'for': 9, 'framework': 10, 'is': 11, 'probabilistic': 12, 'pytorch': 13, 'tensorflow': 14, 'tfprobability ': 15, 'very': 16}\n",
            "{0: '<pad>', 1: ' deep learning', 2: 'I', 3: 'a', 4: 'am', 5: 'brave', 6: 'changing', 7: 'easy', 8: 'fast', 9: 'for', 10: 'framework', 11: 'is', 12: 'probabilistic', 13: 'pytorch', 14: 'tensorflow', 15: 'tfprobability ', 16: 'very'}\n"
          ]
        }
      ]
    },
    {
      "cell_type": "code",
      "source": [
        "pos_list = ['<pad>'] + sorted(set(sum(pos, [])))\n",
        "pos2idx = {pos:idx for idx, pos in enumerate(pos_list)}\n",
        "idx2pos = {idx:pos for idx, pos in enumerate(pos_list)}\n",
        "\n",
        "print(pos_list)\n",
        "print(pos2idx)\n",
        "print(idx2pos)"
      ],
      "metadata": {
        "colab": {
          "base_uri": "https://localhost:8080/"
        },
        "id": "Muo2W9NI5st5",
        "outputId": "43a7d359-e6f4-4ce2-be42-c9f625954a5e"
      },
      "execution_count": 34,
      "outputs": [
        {
          "output_type": "stream",
          "name": "stdout",
          "text": [
            "['<pad>', 'adjective', 'adverb', 'determiner', 'noun', 'preposition', 'pronoun', 'verb']\n",
            "{'<pad>': 0, 'adjective': 1, 'adverb': 2, 'determiner': 3, 'noun': 4, 'preposition': 5, 'pronoun': 6, 'verb': 7}\n",
            "{0: '<pad>', 1: 'adjective', 2: 'adverb', 3: 'determiner', 4: 'noun', 5: 'preposition', 6: 'pronoun', 7: 'verb'}\n"
          ]
        }
      ]
    },
    {
      "cell_type": "code",
      "source": [
        "X = list(map(lambda sentence: [word2idx.get(token) for token in sentence], sentences))\n",
        "y = list(map(lambda sentence: [pos2idx.get(token) for token in sentence], pos))\n",
        "\n",
        "print(X)\n",
        "print(y)"
      ],
      "metadata": {
        "colab": {
          "base_uri": "https://localhost:8080/"
        },
        "id": "vugcyZy25v9N",
        "outputId": "1c58306e-aab5-40e5-8fd4-f9ff56fd27b8"
      },
      "execution_count": 35,
      "outputs": [
        {
          "output_type": "stream",
          "name": "stdout",
          "text": [
            "[[2, 4, 5], [13, 11, 16, 7], [15, 11, 3, 10, 9, 12, 1], [14, 11, 16, 8, 6]]\n",
            "[[6, 7, 1], [4, 7, 2, 1], [4, 7, 3, 4, 5, 1, 4], [4, 7, 2, 1, 7]]\n"
          ]
        }
      ]
    },
    {
      "cell_type": "code",
      "source": [
        "from tensorflow.keras.preprocessing.sequence import pad_sequences\n",
        "\n",
        "X = pad_sequences(X, maxlen=10, padding='post')\n",
        "X_mask = (X != 0).astype(np.float32)\n",
        "X_len = np.array(list((map(lambda sentence: len(sentence), sentences))), dtype=np.float32)\n",
        "\n",
        "print(X)\n",
        "print(X_mask)\n",
        "print(X_len)"
      ],
      "metadata": {
        "colab": {
          "base_uri": "https://localhost:8080/"
        },
        "id": "YIEXWff95yHh",
        "outputId": "054fa866-9595-420d-b8a4-54eaf3938f4a"
      },
      "execution_count": 36,
      "outputs": [
        {
          "output_type": "stream",
          "name": "stdout",
          "text": [
            "[[ 2  4  5  0  0  0  0  0  0  0]\n",
            " [13 11 16  7  0  0  0  0  0  0]\n",
            " [15 11  3 10  9 12  1  0  0  0]\n",
            " [14 11 16  8  6  0  0  0  0  0]]\n",
            "[[1. 1. 1. 0. 0. 0. 0. 0. 0. 0.]\n",
            " [1. 1. 1. 1. 0. 0. 0. 0. 0. 0.]\n",
            " [1. 1. 1. 1. 1. 1. 1. 0. 0. 0.]\n",
            " [1. 1. 1. 1. 1. 0. 0. 0. 0. 0.]]\n",
            "[3. 4. 7. 5.]\n"
          ]
        }
      ]
    },
    {
      "cell_type": "code",
      "source": [
        "y = pad_sequences(y, maxlen=10, padding='post')\n",
        "\n",
        "print(y)"
      ],
      "metadata": {
        "colab": {
          "base_uri": "https://localhost:8080/"
        },
        "id": "rl64LCWS5zfr",
        "outputId": "9a18fe7e-7d94-4ad5-b64b-040fcba374fa"
      },
      "execution_count": 37,
      "outputs": [
        {
          "output_type": "stream",
          "name": "stdout",
          "text": [
            "[[6 7 1 0 0 0 0 0 0 0]\n",
            " [4 7 2 1 0 0 0 0 0 0]\n",
            " [4 7 3 4 5 1 4 0 0 0]\n",
            " [4 7 2 1 7 0 0 0 0 0]]\n"
          ]
        }
      ]
    },
    {
      "cell_type": "code",
      "source": [
        "train_ds = tf.data.Dataset.from_tensor_slices((X, y, X_len)).shuffle(buffer_size=4).batch(batch_size=2)\n",
        "\n",
        "print(train_ds)"
      ],
      "metadata": {
        "colab": {
          "base_uri": "https://localhost:8080/"
        },
        "id": "b3sq0R6B50pD",
        "outputId": "36c6c61b-1240-4163-853b-91ab63adacd7"
      },
      "execution_count": 38,
      "outputs": [
        {
          "output_type": "stream",
          "name": "stdout",
          "text": [
            "<BatchDataset element_spec=(TensorSpec(shape=(None, 10), dtype=tf.int32, name=None), TensorSpec(shape=(None, 10), dtype=tf.int32, name=None), TensorSpec(shape=(None,), dtype=tf.float32, name=None))>\n"
          ]
        }
      ]
    },
    {
      "cell_type": "markdown",
      "source": [
        "Model Implementation\n",
        "\n"
      ],
      "metadata": {
        "id": "pv_-ayB152n0"
      }
    },
    {
      "cell_type": "code",
      "source": [
        "num_classes = len(pos2idx)\n",
        "input_dim = len(word2idx)\n",
        "output_dim = len(word2idx)"
      ],
      "metadata": {
        "id": "f2K_Fi8F51hb"
      },
      "execution_count": 39,
      "outputs": []
    },
    {
      "cell_type": "code",
      "source": [
        "from tensorflow.keras.models import Sequential\n",
        "from tensorflow.keras.layers import Embedding, TimeDistributed, Dense, SimpleRNN\n",
        "\n",
        "model = Sequential([\n",
        "    Embedding(input_dim=input_dim, output_dim=output_dim,\n",
        "              mask_zero=True, trainable=False, input_length=10,\n",
        "              embeddings_initializer=tf.keras.initializers.random_normal()),\n",
        "    SimpleRNN(units=10, return_sequences=True),\n",
        "    TimeDistributed(Dense(units=num_classes))\n",
        "])\n",
        "\n",
        "model.summary()"
      ],
      "metadata": {
        "colab": {
          "base_uri": "https://localhost:8080/"
        },
        "id": "pAYJEeIR534d",
        "outputId": "c406b290-e030-4783-e9bb-0df7c9369ac1"
      },
      "execution_count": 40,
      "outputs": [
        {
          "output_type": "stream",
          "name": "stdout",
          "text": [
            "Model: \"sequential_2\"\n",
            "_________________________________________________________________\n",
            " Layer (type)                Output Shape              Param #   \n",
            "=================================================================\n",
            " embedding_2 (Embedding)     (None, 10, 17)            289       \n",
            "                                                                 \n",
            " simple_rnn_2 (SimpleRNN)    (None, 10, 10)            280       \n",
            "                                                                 \n",
            " time_distributed_1 (TimeDis  (None, 10, 8)            88        \n",
            " tributed)                                                       \n",
            "                                                                 \n",
            "=================================================================\n",
            "Total params: 657\n",
            "Trainable params: 368\n",
            "Non-trainable params: 289\n",
            "_________________________________________________________________\n"
          ]
        }
      ]
    },
    {
      "cell_type": "code",
      "source": [
        "def loss_fn(model, x, y, x_len, max_sequence):\n",
        "    masking = tf.sequence_mask(x_len, maxlen=max_sequence, dtype=tf.float32)\n",
        "    sequence_loss = tf.keras.losses.sparse_categorical_crossentropy(\n",
        "        y_true=y, y_pred=model(x), from_logits=True\n",
        "    ) * masking\n",
        "    sequence_loss = tf.reduce_mean(tf.reduce_sum(sequence_loss, axis=1) / x_len)\n",
        "    return sequence_loss\n",
        "\n",
        "optimizer = tf.keras.optimizers.Adam(learning_rate=0.1)"
      ],
      "metadata": {
        "id": "VUGbAS8w5417"
      },
      "execution_count": 41,
      "outputs": []
    },
    {
      "cell_type": "code",
      "source": [
        ""
      ],
      "metadata": {
        "id": "kCO_KDL86XJd"
      },
      "execution_count": 41,
      "outputs": []
    },
    {
      "cell_type": "code",
      "source": [
        "tr_loss_hist = []\n",
        "\n",
        "for e in range(30):\n",
        "    avg_tr_loss = 0\n",
        "    tr_step = 0\n",
        "    \n",
        "    for x_mb, y_mb, x_mb_len in train_ds:\n",
        "        with tf.GradientTape() as tape:\n",
        "            tr_loss = loss_fn(model, x_mb, y_mb, x_mb_len, max_sequence=10)\n",
        "        grads = tape.gradient(tr_loss, model.trainable_variables)\n",
        "        optimizer.apply_gradients(grads_and_vars=zip(grads, model.trainable_variables))\n",
        "        avg_tr_loss += tr_loss\n",
        "        tr_step += 1\n",
        "    avg_tr_loss /= tr_step\n",
        "    tr_loss_hist.append(avg_tr_loss)\n",
        "    \n",
        "    if (e + 1) % 5 == 0:\n",
        "        print('Epoch: {:3}, tr_loss: {:.3f}'.format(e+1, avg_tr_loss))"
      ],
      "metadata": {
        "colab": {
          "base_uri": "https://localhost:8080/"
        },
        "id": "JNfdNCBL56BO",
        "outputId": "84c59829-04d8-41ae-8c08-c14f70c2d13c"
      },
      "execution_count": 42,
      "outputs": [
        {
          "output_type": "stream",
          "name": "stdout",
          "text": [
            "Epoch:   5, tr_loss: 0.649\n",
            "Epoch:  10, tr_loss: 0.193\n",
            "Epoch:  15, tr_loss: 0.045\n",
            "Epoch:  20, tr_loss: 0.014\n",
            "Epoch:  25, tr_loss: 0.007\n",
            "Epoch:  30, tr_loss: 0.004\n"
          ]
        }
      ]
    },
    {
      "cell_type": "code",
      "source": [
        "y_pred = model.predict(X)\n",
        "y_pred = np.argmax(y_pred, axis=-1) * X_mask\n",
        "\n",
        "y_pred"
      ],
      "metadata": {
        "colab": {
          "base_uri": "https://localhost:8080/"
        },
        "id": "pNVK-LhI57Zt",
        "outputId": "c5fefbd1-b2c8-4aad-f2b7-d1fbe6fac826"
      },
      "execution_count": 43,
      "outputs": [
        {
          "output_type": "execute_result",
          "data": {
            "text/plain": [
              "array([[6., 7., 1., 0., 0., 0., 0., 0., 0., 0.],\n",
              "       [4., 7., 2., 1., 0., 0., 0., 0., 0., 0.],\n",
              "       [4., 7., 3., 4., 5., 1., 4., 0., 0., 0.],\n",
              "       [4., 7., 2., 1., 7., 0., 0., 0., 0., 0.]])"
            ]
          },
          "metadata": {},
          "execution_count": 43
        }
      ]
    },
    {
      "cell_type": "code",
      "source": [
        "from pprint import pprint\n",
        "\n",
        "y_pred_pos = list(map(lambda row: [idx2pos.get(elm) for elm in row], y_pred.astype(np.int32).tolist()))\n",
        "\n",
        "pprint(y_pred_pos)\n",
        "\n",
        "pprint(pos)"
      ],
      "metadata": {
        "colab": {
          "base_uri": "https://localhost:8080/"
        },
        "id": "ISFpzyd058to",
        "outputId": "4c75275f-9f03-4b6a-a1ad-da28101de6cd"
      },
      "execution_count": 44,
      "outputs": [
        {
          "output_type": "stream",
          "name": "stdout",
          "text": [
            "[['pronoun',\n",
            "  'verb',\n",
            "  'adjective',\n",
            "  '<pad>',\n",
            "  '<pad>',\n",
            "  '<pad>',\n",
            "  '<pad>',\n",
            "  '<pad>',\n",
            "  '<pad>',\n",
            "  '<pad>'],\n",
            " ['noun',\n",
            "  'verb',\n",
            "  'adverb',\n",
            "  'adjective',\n",
            "  '<pad>',\n",
            "  '<pad>',\n",
            "  '<pad>',\n",
            "  '<pad>',\n",
            "  '<pad>',\n",
            "  '<pad>'],\n",
            " ['noun',\n",
            "  'verb',\n",
            "  'determiner',\n",
            "  'noun',\n",
            "  'preposition',\n",
            "  'adjective',\n",
            "  'noun',\n",
            "  '<pad>',\n",
            "  '<pad>',\n",
            "  '<pad>'],\n",
            " ['noun',\n",
            "  'verb',\n",
            "  'adverb',\n",
            "  'adjective',\n",
            "  'verb',\n",
            "  '<pad>',\n",
            "  '<pad>',\n",
            "  '<pad>',\n",
            "  '<pad>',\n",
            "  '<pad>']]\n",
            "[['pronoun', 'verb', 'adjective'],\n",
            " ['noun', 'verb', 'adverb', 'adjective'],\n",
            " ['noun', 'verb', 'determiner', 'noun', 'preposition', 'adjective', 'noun'],\n",
            " ['noun', 'verb', 'adverb', 'adjective', 'verb']]\n"
          ]
        }
      ]
    },
    {
      "cell_type": "code",
      "source": [
        "plt.figure()\n",
        "plt.plot(tr_loss_hist)\n",
        "plt.title('Training loss for many-to-many model')\n",
        "plt.show()"
      ],
      "metadata": {
        "colab": {
          "base_uri": "https://localhost:8080/",
          "height": 281
        },
        "id": "oum_o-kn59xB",
        "outputId": "c32f4dfe-25d9-40dd-aa5b-7f9c43cc9c1a"
      },
      "execution_count": 45,
      "outputs": [
        {
          "output_type": "display_data",
          "data": {
            "text/plain": [
              "<Figure size 432x288 with 1 Axes>"
            ],
            "image/png": "[encoded data removed]"
          },
          "metadata": {
            "needs_background": "light"
          }
        }
      ]
    }
  ]
}